{
 "cells": [
  {
   "cell_type": "markdown",
   "metadata": {},
   "source": [
    "# Recap ggplot\n",
    "\n",
    "Mark Klik & Misja Mikkers\n",
    "\n",
    "# Packages"
   ]
  },
  {
   "cell_type": "code",
   "execution_count": 1,
   "metadata": {
    "collapsed": false
   },
   "outputs": [
    {
     "ename": "ERROR",
     "evalue": "Error in library(tidyverse): there is no package called 'tidyverse'\n",
     "output_type": "error",
     "traceback": [
      "Error in library(tidyverse): there is no package called 'tidyverse'\n"
     ]
    }
   ],
   "source": [
    "library(tidyverse)"
   ]
  },
  {
   "cell_type": "markdown",
   "metadata": {},
   "source": [
    "# Short recapitulation ggplot\n",
    "\n",
    "## Background and design of the ggplot2 package\n",
    "\n",
    "* In 2005  Hadley Wickham created ggplot as part of his PhD.\n",
    "* ggplot is an implementation of the 'Grammar of Graphics' (Wilkinson, 2005). \n",
    "* `ggplot2` makes it possible to link a certain _aesthetic_ of a graph to a column in a dataframe. Examples of are _Aesthetics_ :\n",
    "\n",
    "    - color fill\n",
    "    - line color\n",
    "    - line size\n",
    "    - size and shape of points\n",
    "    - transparancy (alpha)\n",
    "    - x-coordinate\n",
    "    - y-coordinate\n",
    "    - line type\n",
    "    - etc\n",
    "\n",
    "## small example\n",
    "\n",
    "We will use the data-set of Americain presidents available of `R`:\n"
   ]
  },
  {
   "cell_type": "code",
   "execution_count": 2,
   "metadata": {
    "collapsed": false
   },
   "outputs": [
    {
     "data": {
      "text/html": [
       "<table>\n",
       "<thead><tr><th scope=col>name</th><th scope=col>start</th><th scope=col>end</th><th scope=col>party</th></tr></thead>\n",
       "<tbody>\n",
       "\t<tr><td>Eisenhower</td><td>1953-01-20</td><td>1961-01-20</td><td>Republican</td></tr>\n",
       "\t<tr><td>Kennedy   </td><td>1961-01-20</td><td>1963-11-22</td><td>Democratic</td></tr>\n",
       "\t<tr><td>Johnson   </td><td>1963-11-22</td><td>1969-01-20</td><td>Democratic</td></tr>\n",
       "\t<tr><td>Nixon     </td><td>1969-01-20</td><td>1974-08-09</td><td>Republican</td></tr>\n",
       "\t<tr><td>Ford      </td><td>1974-08-09</td><td>1977-01-20</td><td>Republican</td></tr>\n",
       "\t<tr><td>Carter    </td><td>1977-01-20</td><td>1981-01-20</td><td>Democratic</td></tr>\n",
       "\t<tr><td>Reagan    </td><td>1981-01-20</td><td>1989-01-20</td><td>Republican</td></tr>\n",
       "\t<tr><td>Bush      </td><td>1989-01-20</td><td>1993-01-20</td><td>Republican</td></tr>\n",
       "\t<tr><td>Clinton   </td><td>1993-01-20</td><td>2001-01-20</td><td>Democratic</td></tr>\n",
       "\t<tr><td>Bush      </td><td>2001-01-20</td><td>2009-01-20</td><td>Republican</td></tr>\n",
       "\t<tr><td>Obama     </td><td>2009-01-20</td><td>2017-01-20</td><td>Democratic</td></tr>\n",
       "</tbody>\n",
       "</table>\n"
      ],
      "text/latex": [
       "\\begin{tabular}{r|llll}\n",
       " name & start & end & party\\\\\n",
       "\\hline\n",
       "\t Eisenhower & 1953-01-20 & 1961-01-20 & Republican\\\\\n",
       "\t Kennedy    & 1961-01-20 & 1963-11-22 & Democratic\\\\\n",
       "\t Johnson    & 1963-11-22 & 1969-01-20 & Democratic\\\\\n",
       "\t Nixon      & 1969-01-20 & 1974-08-09 & Republican\\\\\n",
       "\t Ford       & 1974-08-09 & 1977-01-20 & Republican\\\\\n",
       "\t Carter     & 1977-01-20 & 1981-01-20 & Democratic\\\\\n",
       "\t Reagan     & 1981-01-20 & 1989-01-20 & Republican\\\\\n",
       "\t Bush       & 1989-01-20 & 1993-01-20 & Republican\\\\\n",
       "\t Clinton    & 1993-01-20 & 2001-01-20 & Democratic\\\\\n",
       "\t Bush       & 2001-01-20 & 2009-01-20 & Republican\\\\\n",
       "\t Obama      & 2009-01-20 & 2017-01-20 & Democratic\\\\\n",
       "\\end{tabular}\n"
      ],
      "text/markdown": [
       "\n",
       "name | start | end | party | \n",
       "|---|---|---|---|---|---|---|---|---|---|---|\n",
       "| Eisenhower | 1953-01-20 | 1961-01-20 | Republican | \n",
       "| Kennedy    | 1961-01-20 | 1963-11-22 | Democratic | \n",
       "| Johnson    | 1963-11-22 | 1969-01-20 | Democratic | \n",
       "| Nixon      | 1969-01-20 | 1974-08-09 | Republican | \n",
       "| Ford       | 1974-08-09 | 1977-01-20 | Republican | \n",
       "| Carter     | 1977-01-20 | 1981-01-20 | Democratic | \n",
       "| Reagan     | 1981-01-20 | 1989-01-20 | Republican | \n",
       "| Bush       | 1989-01-20 | 1993-01-20 | Republican | \n",
       "| Clinton    | 1993-01-20 | 2001-01-20 | Democratic | \n",
       "| Bush       | 2001-01-20 | 2009-01-20 | Republican | \n",
       "| Obama      | 2009-01-20 | 2017-01-20 | Democratic | \n",
       "\n",
       "\n"
      ],
      "text/plain": [
       "   name       start      end        party     \n",
       "1  Eisenhower 1953-01-20 1961-01-20 Republican\n",
       "2  Kennedy    1961-01-20 1963-11-22 Democratic\n",
       "3  Johnson    1963-11-22 1969-01-20 Democratic\n",
       "4  Nixon      1969-01-20 1974-08-09 Republican\n",
       "5  Ford       1974-08-09 1977-01-20 Republican\n",
       "6  Carter     1977-01-20 1981-01-20 Democratic\n",
       "7  Reagan     1981-01-20 1989-01-20 Republican\n",
       "8  Bush       1989-01-20 1993-01-20 Republican\n",
       "9  Clinton    1993-01-20 2001-01-20 Democratic\n",
       "10 Bush       2001-01-20 2009-01-20 Republican\n",
       "11 Obama      2009-01-20 2017-01-20 Democratic"
      ]
     },
     "metadata": {},
     "output_type": "display_data"
    }
   ],
   "source": [
    "df <- presidential\n",
    "df"
   ]
  },
  {
   "cell_type": "code",
   "execution_count": 3,
   "metadata": {
    "collapsed": false
   },
   "outputs": [
    {
     "data": {},
     "metadata": {},
     "output_type": "display_data"
    },
    {
     "data": {
      "image/png": "[encoded data removed]",
      "text/plain": [
       "plot without title"
      ]
     },
     "metadata": {},
     "output_type": "display_data"
    }
   ],
   "source": [
    "ggplot(df) +\n",
    "  geom_point(aes(start, name, size = start, colour = party)) +\n",
    "  geom_point(aes(start, name, shape = factor(end - start)), size = 1.5) +\n",
    "  labs(shape = \"duration in days\", size = \"Starting year\", colour = \"Party\") +\n",
    "  xlab(\"Start presidency\") +\n",
    "  ylab(\"Name of the president\") +\n",
    "  geom_text(aes(start, name, label = substr(name, 2, 3)), nudge_y = 0.35)"
   ]
  },
  {
   "cell_type": "markdown",
   "metadata": {},
   "source": [
    "In this graph we made the following links between the _aesthetics_ and the columns:\n",
    "\n",
    "* color of the points is linked to the party of the president\n",
    "* the x-as is linked to the starting date of the presidency\n",
    "* the y-as is linked to the name of the president\n",
    "* the shape in the point is linked to the number of days in office\n",
    "* the letter is linked to the second and third letter of the name of the president\n",
    "\n",
    "\n",
    "\n",
    "\n"
   ]
  },
  {
   "cell_type": "markdown",
   "metadata": {},
   "source": [
    "End Notebook"
   ]
  }
 ],
 "metadata": {
  "anaconda-cloud": {},
  "kernelspec": {
   "display_name": "R",
   "language": "R",
   "name": "ir"
  },
  "language_info": {
   "codemirror_mode": "r",
   "file_extension": ".r",
   "mimetype": "text/x-r-source",
   "name": "R",
   "pygments_lexer": "r",
   "version": "3.3.2"
  }
 },
 "nbformat": 4,
 "nbformat_minor": 1
}
