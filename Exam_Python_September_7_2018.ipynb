{
 "cells": [
  {
   "cell_type": "markdown",
   "metadata": {},
   "source": [
    "Before you turn this problem in, make sure everything runs as expected. First, **restart the kernel** (in the menubar, select Kernel$\\rightarrow$Restart) and then **run all cells** (in the menubar, select Cell$\\rightarrow$Run All).\n",
    "\n",
    "Make sure you fill in any place that says `YOUR CODE HERE` or \"YOUR ANSWER HERE\", as well as your name and collaborators below:"
   ]
  },
  {
   "cell_type": "code",
   "execution_count": 1,
   "metadata": {},
   "outputs": [],
   "source": [
    "NAME = \"Sam Hamers 2014708\"\n",
    "COLLABORATORS = \"\""
   ]
  },
  {
   "cell_type": "markdown",
   "metadata": {},
   "source": [
    "---"
   ]
  },
  {
   "cell_type": "markdown",
   "metadata": {
    "deletable": false,
    "editable": false,
    "nbgrader": {
     "checksum": "e53eb7da4b90cccdbeb5924177a0d295",
     "grade": false,
     "grade_id": "cell-bace731f185b39bb",
     "locked": true,
     "schema_version": 1,
     "solution": false
    }
   },
   "source": [
    "Fill in the cell above to provide us with your name and student number, like\n",
    "\n",
    "NAME = \"Adam Smith, #student number#\"\n",
    "\n",
    "where you replace \"#student number#\" with your ... (very good!)\n",
    "\n",
    "Unfortunately, you are not allowed to work with \"COLLABORATORS\" in this exam."
   ]
  },
  {
   "cell_type": "markdown",
   "metadata": {
    "deletable": false,
    "editable": false,
    "nbgrader": {
     "checksum": "6cd862f4345c0a072c59a404cda0ba85",
     "grade": false,
     "grade_id": "cell-895e9a7b94992ec9",
     "locked": true,
     "schema_version": 1,
     "solution": false
    }
   },
   "source": [
    "# exam September 7th, 2018\n",
    "\n",
    "With this python part of the exam you can earn at max. 4 points.\n",
    "\n"
   ]
  },
  {
   "cell_type": "markdown",
   "metadata": {
    "deletable": false,
    "editable": false,
    "nbgrader": {
     "checksum": "e7913cd5c9f8f9e4ad1b4b7e924a9a84",
     "grade": false,
     "grade_id": "cell-540987818af25557",
     "locked": true,
     "schema_version": 1,
     "solution": false
    }
   },
   "source": [
    "\n",
    "In the first cell of the notebook, give us your name and student number in the way indicated above. \n",
    "\n",
    "Fill in the notebook (see below for code cells and text cells that you need to fill in).\n",
    "\n",
    "If you look at the menus above (File, Edit, View etc.), there is one called \"Cell\". If you click on this, you can change the \"Cell Type\". Choose \"Code\" when you are typing python or R code. Choose \"Markdown\" when you are typing, well, markdown.\n",
    "\n",
    "When you finish the notebook, make sure that you **save it with the output of your code included**. \n",
    "\n",
    "Then put it on github, e.g. by dragging it onto github (see instructions below). \n",
    "\n",
    "Finally, add a link to your README file with the name of this exam: \"Exam September 7, 2018\".\n",
    "\n"
   ]
  },
  {
   "cell_type": "markdown",
   "metadata": {
    "deletable": false,
    "editable": false,
    "nbgrader": {
     "checksum": "de320ce66e4b6f0a0457a258dea1bd41",
     "grade": false,
     "grade_id": "cell-e1cf88cb799f1f43",
     "locked": true,
     "schema_version": 1,
     "solution": false
    }
   },
   "source": [
    "## Demand and equilibrium\n",
    "\n",
    "We start by importing the usual libraries."
   ]
  },
  {
   "cell_type": "code",
   "execution_count": 2,
   "metadata": {
    "deletable": false,
    "editable": false,
    "nbgrader": {
     "checksum": "7bd770ef54db47c3b6c8d0e31f6baef6",
     "grade": false,
     "grade_id": "cell-b895769bf40e183a",
     "locked": true,
     "schema_version": 1,
     "solution": false
    }
   },
   "outputs": [],
   "source": [
    "import matplotlib.pyplot as plt\n",
    "import pandas as pd\n",
    "import numpy as np\n",
    "from scipy import optimize\n",
    "%matplotlib inline"
   ]
  },
  {
   "cell_type": "markdown",
   "metadata": {
    "deletable": false,
    "editable": false,
    "nbgrader": {
     "checksum": "74eea1383af9a678cca5cd1641bd8cbd",
     "grade": false,
     "grade_id": "cell-83284c4090d6de8c",
     "locked": true,
     "schema_version": 1,
     "solution": false
    }
   },
   "source": [
    "#### a) [1 point] Explain in words what the following code does. Which property of booleans in python do we use for this to work?\n",
    "\n",
    "[hint: copy-paste part of the code in a cell to evaluate each step separately]"
   ]
  },
  {
   "cell_type": "code",
   "execution_count": 3,
   "metadata": {
    "deletable": false,
    "editable": false,
    "nbgrader": {
     "checksum": "a107c376d499a16a0e27d813fba3c499",
     "grade": false,
     "grade_id": "cell-7770128c0a989c60",
     "locked": true,
     "schema_version": 1,
     "solution": false
    }
   },
   "outputs": [
    {
     "data": {
      "text/plain": [
       "0.625"
      ]
     },
     "execution_count": 3,
     "metadata": {},
     "output_type": "execute_result"
    }
   ],
   "source": [
    "np.sum(np.array([1,2,3,4,5,6,7,8])>3)/len(np.array([1,2,3,4,5,6,7,8])>3)"
   ]
  },
  {
   "cell_type": "markdown",
   "metadata": {
    "deletable": false,
    "nbgrader": {
     "checksum": "3a32df4588a1c3424a5d2e79404d1f9f",
     "grade": true,
     "grade_id": "cell-8a5761555a34b60b",
     "locked": false,
     "points": 1,
     "schema_version": 1,
     "solution": true
    }
   },
   "source": [
    "Booleans are either True or False, so they can't have any value in between.\n",
    "\n",
    "The first part of the code: np.sum(np.array([1,2,3,4,5,6,7,8])>3) checks which value from the array is greater than 3 (the values 4,5,6,7 and 8). These 5 values return True, the other 3 values return False. Then np.sum() sums the values that return TRUE (=5). \n",
    "The second part of the code: len(np.array([1,2,3,4,5,6,7,8])>3) returns the length of the array (numbers 1 to 8), which returns the value 8. \n",
    "\n",
    "In total, the first part is divided by the second part. Resulting in: 5/8=0.625"
   ]
  },
  {
   "cell_type": "code",
   "execution_count": null,
   "metadata": {},
   "outputs": [],
   "source": []
  },
  {
   "cell_type": "markdown",
   "metadata": {
    "deletable": false,
    "editable": false,
    "nbgrader": {
     "checksum": "954d5a96439e4265a384d91a97b22648",
     "grade": false,
     "grade_id": "cell-1a9c57d4d1fc34dc",
     "locked": true,
     "schema_version": 1,
     "solution": false
    }
   },
   "source": [
    "Consider a market with 1000 consumers. Each consumer is willing to buy either 1 or 0 units of the product in this market. If the consumer does not buy, her utility equals 0.\n",
    "\n",
    "The vector of valuations of all 1000 consumers in the market is given by the vector `vector_utilities` below.\n"
   ]
  },
  {
   "cell_type": "code",
   "execution_count": 4,
   "metadata": {
    "deletable": false,
    "editable": false,
    "nbgrader": {
     "checksum": "916e0335b3020a8c0ff45e237001f8b7",
     "grade": false,
     "grade_id": "cell-d33704e6e42e5387",
     "locked": true,
     "schema_version": 1,
     "solution": false
    }
   },
   "outputs": [],
   "source": [
    "N_consumers = 1000\n",
    "vector_utilities = np.random.normal(10,3,size=N_consumers)"
   ]
  },
  {
   "cell_type": "markdown",
   "metadata": {
    "deletable": false,
    "editable": false,
    "nbgrader": {
     "checksum": "384f67102189bb6ecdfb036b331c113a",
     "grade": false,
     "grade_id": "cell-3b8ee172d9950128",
     "locked": true,
     "schema_version": 1,
     "solution": false
    }
   },
   "source": [
    "#### b) [0.5 points] Explain what the code `np.random.normal` does."
   ]
  },
  {
   "cell_type": "markdown",
   "metadata": {
    "deletable": false,
    "nbgrader": {
     "checksum": "2169b1e7f731f29c623bcc250e54e587",
     "grade": true,
     "grade_id": "cell-a5e7853f661e19b2",
     "locked": false,
     "points": 0.5,
     "schema_version": 1,
     "solution": true
    }
   },
   "source": [
    "It draws random samples from a normal distribution. In this case a normal distribution with mean 10 and standard deviation 3. This is done for 1000 (=N_consumers) samples."
   ]
  },
  {
   "cell_type": "markdown",
   "metadata": {
    "deletable": false,
    "editable": false,
    "nbgrader": {
     "checksum": "523c4611a9ddbfb2d6623e06f3607c07",
     "grade": false,
     "grade_id": "cell-4b33762aa4a601fe",
     "locked": true,
     "schema_version": 1,
     "solution": false
    }
   },
   "source": [
    "#### c) [1. point] (i) Create a histogram of the vector `vector_utilities`. (ii) Make sure that we have relative frequencies (not absolute numbers) on the vertical axis [hint: you can use google to figure out how this works] (iii) Put the label 'utility' on the horizontal axis and the label 'frequency' on the vertical axis."
   ]
  },
  {
   "cell_type": "code",
   "execution_count": 10,
   "metadata": {
    "deletable": false,
    "nbgrader": {
     "checksum": "16debdd606d4af967efa09bbca10b9bb",
     "grade": true,
     "grade_id": "cell-5ee215676b91f504",
     "locked": false,
     "points": 1,
     "schema_version": 1,
     "solution": true
    },
    "scrolled": true
   },
   "outputs": [
    {
     "data": {
      "image/png": "[encoded data removed]",
      "text/plain": [
       "<matplotlib.figure.Figure at 0x492c688358>"
      ]
     },
     "metadata": {},
     "output_type": "display_data"
    }
   ],
   "source": [
    "plt.hist(x=vector_utilities, normed=True)\n",
    "plt.xlabel('Utility')\n",
    "plt.ylabel('Frequency')\n",
    "plt.show()"
   ]
  },
  {
   "cell_type": "markdown",
   "metadata": {
    "deletable": false,
    "editable": false,
    "nbgrader": {
     "checksum": "3485a92688a0345c2d40931951cee684",
     "grade": false,
     "grade_id": "cell-3cc076ae39753881",
     "locked": true,
     "schema_version": 1,
     "solution": false
    }
   },
   "source": [
    "#### d) [0.5 points] Complete the following function which gives for each price `p` the demand (number of consumers willing to buy at price `p`.\n",
    "\n",
    "[hint 1: what must be true for an element in `vector_utilities` for this consumer to buy the product?]\n",
    "\n",
    "[hint 2: part of what you learned under a) may be useful here]"
   ]
  },
  {
   "cell_type": "code",
   "execution_count": 6,
   "metadata": {
    "deletable": false,
    "nbgrader": {
     "checksum": "c1b2a7dbf7c6cdd23736d236c6672135",
     "grade": true,
     "grade_id": "cell-0f18e4fded25833f",
     "locked": false,
     "points": 0.5,
     "schema_version": 1,
     "solution": true
    }
   },
   "outputs": [
    {
     "data": {
      "text/plain": [
       "509.0"
      ]
     },
     "execution_count": 6,
     "metadata": {},
     "output_type": "execute_result"
    }
   ],
   "source": [
    "def demand(p): \n",
    "    return 1000*np.sum(vector_utilities>p)/len(vector_utilities>p)\n",
    "\n",
    "demand(10) #For p=10, demand(10) returns 497 people that would buy the product"
   ]
  },
  {
   "cell_type": "markdown",
   "metadata": {},
   "source": [
    "#### e) [0.5 points] Plot this demand function. Recall that economists tend to put quantity on the horizontal axis and price on the vertical axis.\n",
    "\n",
    "[hint: if for some reason you could not solve d) work with the following --incorrect-- demand function:\n",
    "\n",
    "`def demand(p):\n",
    "   return 1000-p`\n",
    "\n",
    "to finish the exam.]"
   ]
  },
  {
   "cell_type": "code",
   "execution_count": 7,
   "metadata": {
    "deletable": false,
    "nbgrader": {
     "checksum": "999db468136d31b16196015f24ac5fa7",
     "grade": true,
     "grade_id": "cell-e88dc4842fb2c38c",
     "locked": false,
     "points": 0.5,
     "schema_version": 1,
     "solution": true
    }
   },
   "outputs": [
    {
     "data": {
      "text/plain": [
       "Text(0,0.5,'Price')"
      ]
     },
     "execution_count": 7,
     "metadata": {},
     "output_type": "execute_result"
    },
    {
     "data": {
      "image/png": "[encoded data removed]",
      "text/plain": [
       "<matplotlib.figure.Figure at 0x492c5e97b8>"
      ]
     },
     "metadata": {},
     "output_type": "display_data"
    }
   ],
   "source": [
    "#I'm uncertain about the answer from d), so I'll use 1000-p, as given in the hint.\n",
    "\n",
    "def demand(p):\n",
    "   return 1000-p\n",
    "\n",
    "#For a graph plotted in a (q,p) diagram, we need a function of the form p(q)=...\n",
    "\n",
    "def price(q):\n",
    "    return 1000-q\n",
    "\n",
    "range_q = np.arange(0,1010,10)\n",
    "plt.plot(range_q,[price(q) for q in range_q])\n",
    "plt.xlabel('Quantity')\n",
    "plt.ylabel('Price')"
   ]
  },
  {
   "cell_type": "markdown",
   "metadata": {
    "deletable": false,
    "editable": false,
    "nbgrader": {
     "checksum": "4465308442518b71a3aabe5c50806149",
     "grade": false,
     "grade_id": "cell-1f9775ff27f62024",
     "locked": true,
     "schema_version": 1,
     "solution": false
    }
   },
   "source": [
    "Assume that there is a fixed supply of 400 units of this product. Consider the following function `excess demand`."
   ]
  },
  {
   "cell_type": "code",
   "execution_count": 8,
   "metadata": {
    "deletable": false,
    "editable": false,
    "nbgrader": {
     "checksum": "7483b16646d39708aeaa8cf5e4a50198",
     "grade": false,
     "grade_id": "cell-09b4afb1c848ad52",
     "locked": true,
     "schema_version": 1,
     "solution": false
    }
   },
   "outputs": [],
   "source": [
    "supply = 400\n",
    "def excess_demand(p):\n",
    "    return demand(p)-supply"
   ]
  },
  {
   "cell_type": "markdown",
   "metadata": {
    "deletable": false,
    "editable": false,
    "nbgrader": {
     "checksum": "b68a36561d750b4325b29a60cd85c95c",
     "grade": false,
     "grade_id": "cell-9847a5147fc6bc0b",
     "locked": true,
     "schema_version": 1,
     "solution": false
    }
   },
   "source": [
    "#### f) [0.5 points] Use a numerical solver to solve for the equilibrium price. Use the figure under e) to give a reasonable starting point for the numerical solver.\n",
    "\n",
    "[hint: what must be true for `excess_demand` at the equilibrium price?]"
   ]
  },
  {
   "cell_type": "code",
   "execution_count": 9,
   "metadata": {
    "deletable": false,
    "nbgrader": {
     "checksum": "d9385c965608e0babffe255a7d375e19",
     "grade": true,
     "grade_id": "cell-6c036cfb38c024d3",
     "locked": false,
     "points": 0.5,
     "schema_version": 1,
     "solution": true
    }
   },
   "outputs": [
    {
     "data": {
      "text/plain": [
       "array([600.])"
      ]
     },
     "execution_count": 9,
     "metadata": {},
     "output_type": "execute_result"
    }
   ],
   "source": [
    "initial_guess = 600\n",
    "optimize.fsolve(lambda p: excess_demand(p), initial_guess) #excess_demand(P) should be 0 at the equilibrium price"
   ]
  },
  {
   "cell_type": "markdown",
   "metadata": {},
   "source": [
    "## Github\n",
    "\n",
    "After you have finished, we need to upload this notebook on github."
   ]
  },
  {
   "cell_type": "markdown",
   "metadata": {},
   "source": [
    "Instructions on how to upload this on github can be found [on this page](http://janboone.github.io/programming-for-economists/github.html). This page has two screencasts: one shows how to drag the notebook onto your github page, the other shows how you can use the command line to upload your notebook.\n"
   ]
  },
  {
   "cell_type": "markdown",
   "metadata": {},
   "source": [
    "Remember to update the README file in your repository to include a link to this notebook on github.\n",
    "\n",
    "\n",
    "The links that you should post start with “github.com/” and are NOT of the form “http://localhost”. Make sure you test your links after uploading."
   ]
  },
  {
   "cell_type": "code",
   "execution_count": null,
   "metadata": {},
   "outputs": [],
   "source": []
  }
 ],
 "metadata": {
  "anaconda-cloud": {},
  "kernelspec": {
   "display_name": "Python 3",
   "language": "python",
   "name": "python3"
  },
  "language_info": {
   "codemirror_mode": {
    "name": "ipython",
    "version": 3
   },
   "file_extension": ".py",
   "mimetype": "text/x-python",
   "name": "python",
   "nbconvert_exporter": "python",
   "pygments_lexer": "ipython3",
   "version": "3.6.4"
  }
 },
 "nbformat": 4,
 "nbformat_minor": 1
}
