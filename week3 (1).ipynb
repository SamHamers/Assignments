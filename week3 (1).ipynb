{
 "cells": [
  {
   "cell_type": "markdown",
   "metadata": {},
   "source": [
    "Before you turn this problem in, make sure everything runs as expected. First, **restart the kernel** (in the menubar, select Kernel$\\rightarrow$Restart) and then **run all cells** (in the menubar, select Cell$\\rightarrow$Run All).\n",
    "\n",
    "Make sure you fill in any place that says `YOUR CODE HERE` or \"YOUR ANSWER HERE\", as well as your name and collaborators below:"
   ]
  },
  {
   "cell_type": "code",
   "execution_count": 1,
   "metadata": {
    "collapsed": true
   },
   "outputs": [],
   "source": [
    "NAME = \"Sam Hamers, 2014708\"\n",
    "COLLABORATORS = \"\""
   ]
  },
  {
   "cell_type": "markdown",
   "metadata": {},
   "source": [
    "---"
   ]
  },
  {
   "cell_type": "markdown",
   "metadata": {},
   "source": [
    "# Programming Cournot competition"
   ]
  },
  {
   "cell_type": "markdown",
   "metadata": {},
   "source": [
    "In this notebook, we will solve a duopoly Cournot model using python. This illustrates how to optimize in python and how to solve equations.\n"
   ]
  },
  {
   "cell_type": "markdown",
   "metadata": {},
   "source": [
    "\n",
    "# Model\n",
    "\n"
   ]
  },
  {
   "cell_type": "markdown",
   "metadata": {},
   "source": [
    "In this notebook we show how a Cournot model can be solved numerically.\n",
    "\n",
    "We start by importing the relevant libraries."
   ]
  },
  {
   "cell_type": "code",
   "execution_count": 2,
   "metadata": {
    "collapsed": true
   },
   "outputs": [],
   "source": [
    "from scipy import optimize,arange\n",
    "from numpy import array\n",
    "import pandas as pd\n",
    "import matplotlib.pyplot as plt\n",
    "%matplotlib inline"
   ]
  },
  {
   "cell_type": "markdown",
   "metadata": {},
   "source": [
    "We assume that (inverse) demand is linear:\n",
    "$$\n",
    "p_i(q_i,q_j) = 1-aq_i-bq_j\n",
    "$$\n",
    "where $0<b \\leq a$.\n",
    "\n",
    "Further, firms have constant marginal costs:\n",
    "$$\n",
    "c_i(q) = c_i q\n",
    "$$\n",
    "Then we can write profits as:\n",
    "$$\n",
    "\\pi_i(q_i,q_j) = (p_i(q_i,q_j)-c_i)q_i\n",
    "$$\n",
    "\n",
    "We can define these functions in python as follows."
   ]
  },
  {
   "cell_type": "code",
   "execution_count": 3,
   "metadata": {
    "collapsed": true
   },
   "outputs": [],
   "source": [
    "def p(q1,q2):\n",
    "    return 1-a*q1-b*q2\n",
    "\n",
    "def costs(q,c):\n",
    "    return c*q\n",
    "\n",
    "def profits(demand_function,cost_function,c,q1,q2):\n",
    "    return demand_function(q1,q2)*q1-cost_function(q1,c)"
   ]
  },
  {
   "cell_type": "markdown",
   "metadata": {},
   "source": [
    "Note that in the last function `profits`, we define this function to be a function of the `demand_function` and the `cost_function`. Later we substitute $p(q_1,q_2)$ for the demand function and $c(q,c)$ for the cost function.  \n",
    "\n",
    "We assume that the firms produce perfect substitutes (homogenous goods)."
   ]
  },
  {
   "cell_type": "code",
   "execution_count": 4,
   "metadata": {
    "collapsed": true
   },
   "outputs": [],
   "source": [
    "a = 1\n",
    "b = 1"
   ]
  },
  {
   "cell_type": "markdown",
   "metadata": {},
   "source": [
    "In equilibrium,each firm maximizes its profits taking the output level of its competitor as given. This is how we are going to model firms. That is, we do not take first order conditions (see appendix for this approach); instead we maximize profits directly.\n",
    "\n",
    "A minor problem here is that python does not feature maximization routines; there are only minimization routines. Hence, if we want to maximize profits, we need to minimize `minus profits`. In the following code block, we minimize $-profits$ for firm 1 given an output level $q_2$ for the other firm. This is, in fact, firm 1's reaction function. From `optimize` we use the function `fminbound` to find the minimum of $-profits$. We specify the function `profits`, with functions `p` and `costs` as defined above. The function call to `reaction` specifies `q2` and `c1`. The only variable left to vary is $q_1$ which we denote by $x$ in the \"lambda\"-function. Further, we specify the interval where the optimal $q_1$ has to be found; $[0,1]$ in this case. Google to see what `full_output` does in this case.\n",
    "\n",
    "Then we define the function `fixed_point`: each firm's output choice is optimal *given* the output of the other firm. Note that the function `reaction` can be used for both firm 1 and firm 2; only the arguments differ for the firms, but the function itself is the same.\n",
    "\n",
    "The function `fixed_point` takes two (vector) arguments: a vector $q$ of output levels and $c$ of cost levels. With the indexing conventions in python, $q[0]$ is the first element of $q$ and hence a natural choice for $q_1$; similarly, $q[1]$ corresponds to $q_2$. The same logic applies to $c$.\n",
    "\n",
    "From `optimize` (which was imported above from `scipy`), we use `fsolve` to find the $q$ where `fixed_point(q,c)` equals 0. We provide an initial guess for this vector $q$. We solve the model for the case where $c_1=c_2=0$.\n",
    "\n"
   ]
  },
  {
   "cell_type": "code",
   "execution_count": 5,
   "metadata": {
    "collapsed": false
   },
   "outputs": [
    {
     "data": {
      "text/plain": [
       "array([ 0.33333333,  0.33333333])"
      ]
     },
     "execution_count": 5,
     "metadata": {},
     "output_type": "execute_result"
    }
   ],
   "source": [
    "def reaction(q2,c1):\n",
    "    q1 =  optimize.fminbound(lambda x: -profits(p,costs,c1,x,q2),0,1,full_output=1)\n",
    "    return q1[0]\n",
    "\n",
    "def fixed_point(q,c):\n",
    "    return [q[0]-reaction(q[1],c[0]),q[1]-reaction(q[0],c[1])]\n",
    "\n",
    "initial_guess = [0,0]\n",
    "\n",
    "optimize.fsolve(lambda q: fixed_point(q,[0,0]), initial_guess)"
   ]
  },
  {
   "cell_type": "markdown",
   "metadata": {
    "collapsed": true
   },
   "source": [
    "\n",
    "### Exercise\n",
    "\n",
    "Derive that total output equals 0.5 if $c_1=0.2$ and $c_2=0.3$.\n"
   ]
  },
  {
   "cell_type": "code",
   "execution_count": 27,
   "metadata": {
    "collapsed": false,
    "deletable": false,
    "nbgrader": {
     "checksum": "9c187d0ac2e223f2bf3c452809aa3c96",
     "grade": false,
     "grade_id": "cell-7d952697e6fc2108",
     "locked": false,
     "schema_version": 1,
     "solution": true
    }
   },
   "outputs": [
    {
     "data": {
      "text/plain": [
       "array([ 0.3,  0.2])"
      ]
     },
     "execution_count": 27,
     "metadata": {},
     "output_type": "execute_result"
    }
   ],
   "source": [
    "optimize.fsolve(lambda q: fixed_point(q,[0.2,0.3]), initial_guess)"
   ]
  },
  {
   "cell_type": "markdown",
   "metadata": {},
   "source": [
    "Now we are going to do a number of simulations for different cost levels of the two firms. In order to store all the outcomes of these simulations, we create a pandas dataframe. \n",
    "\n"
   ]
  },
  {
   "cell_type": "code",
   "execution_count": 19,
   "metadata": {
    "collapsed": true
   },
   "outputs": [],
   "source": [
    "columns = ['c_1','c_2','q_1','q_2']\n",
    "df_simulations = pd.DataFrame(columns=columns)\n",
    "range_c = arange(0,0.51,0.01)\n",
    "counter = 0\n",
    "for i in range(len(range_c)):\n",
    "    for j in range(len(range_c)):\n",
    "        counter = counter +1\n",
    "        c_1 = range_c[i]\n",
    "        c_2 = range_c[j]\n",
    "        df_simulations.loc[counter] = [c_1, c_2, optimize.fsolve(lambda q: fixed_point(q,[c_1,c_2]), initial_guess)[0],optimize.fsolve(lambda q: fixed_point(q,[c_1,c_2]), initial_guess)[1]]\n",
    "\n",
    "    "
   ]
  },
  {
   "cell_type": "markdown",
   "metadata": {},
   "source": [
    "### Exercise\n",
    "\n",
    "Explain the code above. [hint: use the pandas command to give you the first couple of rows of a dataframe to understand what the code above generates]"
   ]
  },
  {
   "cell_type": "markdown",
   "metadata": {
    "deletable": false,
    "nbgrader": {
     "checksum": "30d5be91e146e832c5263bc1b5aed534",
     "grade": true,
     "grade_id": "cell-287bd633448f269a",
     "locked": false,
     "points": 1,
     "schema_version": 1,
     "solution": true
    }
   },
   "source": [
    "It checks for 51 (=len(range_c)) values of c_1 and c_2 and outputs the corresponding q_1 and q_2"
   ]
  },
  {
   "cell_type": "code",
   "execution_count": 29,
   "metadata": {
    "collapsed": false,
    "deletable": false,
    "nbgrader": {
     "checksum": "dc5c6a76b6efa1d412456880e0070b08",
     "grade": false,
     "grade_id": "cell-a55f8ff09a38671d",
     "locked": false,
     "schema_version": 1,
     "solution": true
    }
   },
   "outputs": [
    {
     "data": {
      "text/html": [
       "<div>\n",
       "<table border=\"1\" class=\"dataframe\">\n",
       "  <thead>\n",
       "    <tr style=\"text-align: right;\">\n",
       "      <th></th>\n",
       "      <th>c_1</th>\n",
       "      <th>c_2</th>\n",
       "      <th>q_1</th>\n",
       "      <th>q_2</th>\n",
       "    </tr>\n",
       "  </thead>\n",
       "  <tbody>\n",
       "    <tr>\n",
       "      <th>1</th>\n",
       "      <td>0.0</td>\n",
       "      <td>0.00</td>\n",
       "      <td>0.333333</td>\n",
       "      <td>0.333333</td>\n",
       "    </tr>\n",
       "    <tr>\n",
       "      <th>2</th>\n",
       "      <td>0.0</td>\n",
       "      <td>0.01</td>\n",
       "      <td>0.336667</td>\n",
       "      <td>0.326667</td>\n",
       "    </tr>\n",
       "    <tr>\n",
       "      <th>3</th>\n",
       "      <td>0.0</td>\n",
       "      <td>0.02</td>\n",
       "      <td>0.340000</td>\n",
       "      <td>0.320000</td>\n",
       "    </tr>\n",
       "    <tr>\n",
       "      <th>4</th>\n",
       "      <td>0.0</td>\n",
       "      <td>0.03</td>\n",
       "      <td>0.343333</td>\n",
       "      <td>0.313333</td>\n",
       "    </tr>\n",
       "    <tr>\n",
       "      <th>5</th>\n",
       "      <td>0.0</td>\n",
       "      <td>0.04</td>\n",
       "      <td>0.346667</td>\n",
       "      <td>0.306667</td>\n",
       "    </tr>\n",
       "  </tbody>\n",
       "</table>\n",
       "</div>"
      ],
      "text/plain": [
       "   c_1   c_2       q_1       q_2\n",
       "1  0.0  0.00  0.333333  0.333333\n",
       "2  0.0  0.01  0.336667  0.326667\n",
       "3  0.0  0.02  0.340000  0.320000\n",
       "4  0.0  0.03  0.343333  0.313333\n",
       "5  0.0  0.04  0.346667  0.306667"
      ]
     },
     "execution_count": 29,
     "metadata": {},
     "output_type": "execute_result"
    }
   ],
   "source": [
    "df_simulations.head()"
   ]
  },
  {
   "cell_type": "markdown",
   "metadata": {},
   "source": [
    "We view the dataframe defined above as an economy with different sectors. In each sector there is a duopoly with firms with different costs. We will analyze this cross section of industries below. We start with some summary statistics of this economy."
   ]
  },
  {
   "cell_type": "markdown",
   "metadata": {},
   "source": [
    "### Exercise\n",
    "\n",
    "Use the pandas command that gives you the mean, median and quartiles."
   ]
  },
  {
   "cell_type": "code",
   "execution_count": 32,
   "metadata": {
    "collapsed": false,
    "deletable": false,
    "nbgrader": {
     "checksum": "be78a4d9a9fe662671d4b56f4b184c7d",
     "grade": false,
     "grade_id": "cell-e158ab4beaff1149",
     "locked": false,
     "schema_version": 1,
     "solution": true
    }
   },
   "outputs": [
    {
     "data": {
      "text/html": [
       "<div>\n",
       "<table border=\"1\" class=\"dataframe\">\n",
       "  <thead>\n",
       "    <tr style=\"text-align: right;\">\n",
       "      <th></th>\n",
       "      <th>c_1</th>\n",
       "      <th>c_2</th>\n",
       "      <th>q_1</th>\n",
       "      <th>q_2</th>\n",
       "    </tr>\n",
       "  </thead>\n",
       "  <tbody>\n",
       "    <tr>\n",
       "      <th>count</th>\n",
       "      <td>2601.000000</td>\n",
       "      <td>2601.000000</td>\n",
       "      <td>2601.000000</td>\n",
       "      <td>2601.000000</td>\n",
       "    </tr>\n",
       "    <tr>\n",
       "      <th>mean</th>\n",
       "      <td>0.250000</td>\n",
       "      <td>0.250000</td>\n",
       "      <td>0.250000</td>\n",
       "      <td>0.250000</td>\n",
       "    </tr>\n",
       "    <tr>\n",
       "      <th>std</th>\n",
       "      <td>0.147224</td>\n",
       "      <td>0.147224</td>\n",
       "      <td>0.109735</td>\n",
       "      <td>0.109735</td>\n",
       "    </tr>\n",
       "    <tr>\n",
       "      <th>min</th>\n",
       "      <td>0.000000</td>\n",
       "      <td>0.000000</td>\n",
       "      <td>0.000006</td>\n",
       "      <td>0.000006</td>\n",
       "    </tr>\n",
       "    <tr>\n",
       "      <th>25%</th>\n",
       "      <td>0.120000</td>\n",
       "      <td>0.120000</td>\n",
       "      <td>0.166667</td>\n",
       "      <td>0.166667</td>\n",
       "    </tr>\n",
       "    <tr>\n",
       "      <th>50%</th>\n",
       "      <td>0.250000</td>\n",
       "      <td>0.250000</td>\n",
       "      <td>0.250000</td>\n",
       "      <td>0.250000</td>\n",
       "    </tr>\n",
       "    <tr>\n",
       "      <th>75%</th>\n",
       "      <td>0.380000</td>\n",
       "      <td>0.380000</td>\n",
       "      <td>0.333333</td>\n",
       "      <td>0.333333</td>\n",
       "    </tr>\n",
       "    <tr>\n",
       "      <th>max</th>\n",
       "      <td>0.500000</td>\n",
       "      <td>0.500000</td>\n",
       "      <td>0.499997</td>\n",
       "      <td>0.499997</td>\n",
       "    </tr>\n",
       "  </tbody>\n",
       "</table>\n",
       "</div>"
      ],
      "text/plain": [
       "               c_1          c_2          q_1          q_2\n",
       "count  2601.000000  2601.000000  2601.000000  2601.000000\n",
       "mean      0.250000     0.250000     0.250000     0.250000\n",
       "std       0.147224     0.147224     0.109735     0.109735\n",
       "min       0.000000     0.000000     0.000006     0.000006\n",
       "25%       0.120000     0.120000     0.166667     0.166667\n",
       "50%       0.250000     0.250000     0.250000     0.250000\n",
       "75%       0.380000     0.380000     0.333333     0.333333\n",
       "max       0.500000     0.500000     0.499997     0.499997"
      ]
     },
     "execution_count": 32,
     "metadata": {},
     "output_type": "execute_result"
    }
   ],
   "source": [
    "df_simulations.describe()"
   ]
  },
  {
   "cell_type": "markdown",
   "metadata": {},
   "source": [
    "Below we will make some plots using the matplotlib library. However, in pandas it is possible to plot from a dataframe directly. Then pandas plots as a function of the index of the dataframe. However, we have not yet set an index. In the following command we define the combination of $c_1$ and $c_2$ as the index. Then with `loc[0.0]` we fix the first index ($c_1$) to 0.0. We indicate that we want to plot $q_1$ and $q_2$ and then add the `plot()` method."
   ]
  },
  {
   "cell_type": "code",
   "execution_count": 40,
   "metadata": {
    "collapsed": false
   },
   "outputs": [
    {
     "data": {
      "text/plain": [
       "<matplotlib.axes._subplots.AxesSubplot at 0x5b57470>"
      ]
     },
     "execution_count": 40,
     "metadata": {},
     "output_type": "execute_result"
    },
    {
     "data": {
      "image/png": "[encoded data removed]",
      "text/plain": [
       "<matplotlib.figure.Figure at 0x5b59630>"
      ]
     },
     "metadata": {},
     "output_type": "display_data"
    }
   ],
   "source": [
    "#plt.style.use('seaborn')\n",
    "df_simulations.set_index(['c_1','c_2']).loc[0.0][['q_1','q_2']].plot()"
   ]
  },
  {
   "cell_type": "markdown",
   "metadata": {},
   "source": [
    "### Exercise\n",
    "\n",
    "Why is $q_1$ increasing in this graph and $q_2$ decreasing?"
   ]
  },
  {
   "cell_type": "markdown",
   "metadata": {
    "deletable": false,
    "nbgrader": {
     "checksum": "1fc11454808dd8499549340d70403bf0",
     "grade": true,
     "grade_id": "cell-00bfcb99f36ca1b0",
     "locked": false,
     "points": 1,
     "schema_version": 1,
     "solution": true
    }
   },
   "source": [
    "The costs of firm 2 have gone up, which means they will produce less. Meaning firm 1 can produce (and sell) more."
   ]
  },
  {
   "cell_type": "markdown",
   "metadata": {},
   "source": [
    "Once we have a dataframe, we can calculate new variables using the columns in the existing dataframe. For instance, to add a column with total output, we do the following:"
   ]
  },
  {
   "cell_type": "code",
   "execution_count": 43,
   "metadata": {
    "collapsed": false
   },
   "outputs": [
    {
     "data": {
      "text/html": [
       "<div>\n",
       "<table border=\"1\" class=\"dataframe\">\n",
       "  <thead>\n",
       "    <tr style=\"text-align: right;\">\n",
       "      <th></th>\n",
       "      <th>c_1</th>\n",
       "      <th>c_2</th>\n",
       "      <th>q_1</th>\n",
       "      <th>q_2</th>\n",
       "      <th>Q</th>\n",
       "    </tr>\n",
       "  </thead>\n",
       "  <tbody>\n",
       "    <tr>\n",
       "      <th>1</th>\n",
       "      <td>0.0</td>\n",
       "      <td>0.00</td>\n",
       "      <td>0.333333</td>\n",
       "      <td>0.333333</td>\n",
       "      <td>0.666667</td>\n",
       "    </tr>\n",
       "    <tr>\n",
       "      <th>2</th>\n",
       "      <td>0.0</td>\n",
       "      <td>0.01</td>\n",
       "      <td>0.336667</td>\n",
       "      <td>0.326667</td>\n",
       "      <td>0.663333</td>\n",
       "    </tr>\n",
       "    <tr>\n",
       "      <th>3</th>\n",
       "      <td>0.0</td>\n",
       "      <td>0.02</td>\n",
       "      <td>0.340000</td>\n",
       "      <td>0.320000</td>\n",
       "      <td>0.660000</td>\n",
       "    </tr>\n",
       "    <tr>\n",
       "      <th>4</th>\n",
       "      <td>0.0</td>\n",
       "      <td>0.03</td>\n",
       "      <td>0.343333</td>\n",
       "      <td>0.313333</td>\n",
       "      <td>0.656667</td>\n",
       "    </tr>\n",
       "    <tr>\n",
       "      <th>5</th>\n",
       "      <td>0.0</td>\n",
       "      <td>0.04</td>\n",
       "      <td>0.346667</td>\n",
       "      <td>0.306667</td>\n",
       "      <td>0.653333</td>\n",
       "    </tr>\n",
       "  </tbody>\n",
       "</table>\n",
       "</div>"
      ],
      "text/plain": [
       "   c_1   c_2       q_1       q_2         Q\n",
       "1  0.0  0.00  0.333333  0.333333  0.666667\n",
       "2  0.0  0.01  0.336667  0.326667  0.663333\n",
       "3  0.0  0.02  0.340000  0.320000  0.660000\n",
       "4  0.0  0.03  0.343333  0.313333  0.656667\n",
       "5  0.0  0.04  0.346667  0.306667  0.653333"
      ]
     },
     "execution_count": 43,
     "metadata": {},
     "output_type": "execute_result"
    }
   ],
   "source": [
    "df_simulations['Q'] = df_simulations['q_1']+df_simulations['q_2']\n",
    "df_simulations.head()"
   ]
  },
  {
   "cell_type": "markdown",
   "metadata": {},
   "source": [
    "### Exercise\n",
    "\n",
    "Calculate equilibrium prices. That is, define the new column `df_simulations['P']`."
   ]
  },
  {
   "cell_type": "code",
   "execution_count": 48,
   "metadata": {
    "collapsed": false,
    "deletable": false,
    "nbgrader": {
     "checksum": "f5cfd30ddeb1be5652a303ceb4707332",
     "grade": false,
     "grade_id": "cell-612e1bb0afc23032",
     "locked": false,
     "schema_version": 1,
     "solution": true
    }
   },
   "outputs": [],
   "source": [
    "df_simulations['P'] = p(df_simulations['q_1'],df_simulations['q_2'])\n",
    "\n",
    "#or df_simulations['P'] = 1-df_simulations['q_1']-df_simulations['q_2']"
   ]
  },
  {
   "cell_type": "code",
   "execution_count": 59,
   "metadata": {
    "collapsed": false
   },
   "outputs": [
    {
     "name": "stdout",
     "output_type": "stream",
     "text": [
      "%xdel\n"
     ]
    }
   ],
   "source": []
  },
  {
   "cell_type": "markdown",
   "metadata": {},
   "source": [
    "### Exercise\n",
    "\n",
    "Include the profits of firm 1 and firm 2 in the dataframe."
   ]
  },
  {
   "cell_type": "code",
   "execution_count": 49,
   "metadata": {
    "collapsed": false,
    "deletable": false,
    "nbgrader": {
     "checksum": "59113e78dc038cba1b299967556f933e",
     "grade": false,
     "grade_id": "cell-d70dfd31a23a339e",
     "locked": false,
     "schema_version": 1,
     "solution": true
    }
   },
   "outputs": [
    {
     "data": {
      "text/html": [
       "<div>\n",
       "<table border=\"1\" class=\"dataframe\">\n",
       "  <thead>\n",
       "    <tr style=\"text-align: right;\">\n",
       "      <th></th>\n",
       "      <th>c_1</th>\n",
       "      <th>c_2</th>\n",
       "      <th>q_1</th>\n",
       "      <th>q_2</th>\n",
       "      <th>Q</th>\n",
       "      <th>P</th>\n",
       "      <th>Profit_1</th>\n",
       "      <th>Profit_2</th>\n",
       "    </tr>\n",
       "  </thead>\n",
       "  <tbody>\n",
       "    <tr>\n",
       "      <th>1</th>\n",
       "      <td>0.0</td>\n",
       "      <td>0.00</td>\n",
       "      <td>0.333333</td>\n",
       "      <td>0.333333</td>\n",
       "      <td>0.666667</td>\n",
       "      <td>0.333333</td>\n",
       "      <td>0.111111</td>\n",
       "      <td>0.111111</td>\n",
       "    </tr>\n",
       "    <tr>\n",
       "      <th>2</th>\n",
       "      <td>0.0</td>\n",
       "      <td>0.01</td>\n",
       "      <td>0.336667</td>\n",
       "      <td>0.326667</td>\n",
       "      <td>0.663333</td>\n",
       "      <td>0.336667</td>\n",
       "      <td>0.113344</td>\n",
       "      <td>0.106711</td>\n",
       "    </tr>\n",
       "    <tr>\n",
       "      <th>3</th>\n",
       "      <td>0.0</td>\n",
       "      <td>0.02</td>\n",
       "      <td>0.340000</td>\n",
       "      <td>0.320000</td>\n",
       "      <td>0.660000</td>\n",
       "      <td>0.340000</td>\n",
       "      <td>0.115600</td>\n",
       "      <td>0.102400</td>\n",
       "    </tr>\n",
       "    <tr>\n",
       "      <th>4</th>\n",
       "      <td>0.0</td>\n",
       "      <td>0.03</td>\n",
       "      <td>0.343333</td>\n",
       "      <td>0.313333</td>\n",
       "      <td>0.656667</td>\n",
       "      <td>0.343333</td>\n",
       "      <td>0.117878</td>\n",
       "      <td>0.098178</td>\n",
       "    </tr>\n",
       "    <tr>\n",
       "      <th>5</th>\n",
       "      <td>0.0</td>\n",
       "      <td>0.04</td>\n",
       "      <td>0.346667</td>\n",
       "      <td>0.306667</td>\n",
       "      <td>0.653333</td>\n",
       "      <td>0.346667</td>\n",
       "      <td>0.120178</td>\n",
       "      <td>0.094044</td>\n",
       "    </tr>\n",
       "  </tbody>\n",
       "</table>\n",
       "</div>"
      ],
      "text/plain": [
       "   c_1   c_2       q_1       q_2         Q         P  Profit_1  Profit_2\n",
       "1  0.0  0.00  0.333333  0.333333  0.666667  0.333333  0.111111  0.111111\n",
       "2  0.0  0.01  0.336667  0.326667  0.663333  0.336667  0.113344  0.106711\n",
       "3  0.0  0.02  0.340000  0.320000  0.660000  0.340000  0.115600  0.102400\n",
       "4  0.0  0.03  0.343333  0.313333  0.656667  0.343333  0.117878  0.098178\n",
       "5  0.0  0.04  0.346667  0.306667  0.653333  0.346667  0.120178  0.094044"
      ]
     },
     "execution_count": 49,
     "metadata": {},
     "output_type": "execute_result"
    }
   ],
   "source": [
    "df_simulations['Profit_1'] = df_simulations['P']*df_simulations['q_1']-df_simulations['c_1']*df_simulations['q_1']\n",
    "df_simulations['Profit_2'] = df_simulations['P']*df_simulations['q_2']-df_simulations['c_2']*df_simulations['q_2']\n",
    "df_simulations.head()"
   ]
  },
  {
   "cell_type": "markdown",
   "metadata": {},
   "source": [
    "A popular competition measure is the Herfindahl index. The equation for this index is given by\n",
    "$$\n",
    "H = \\sum_{i=1}^n \\left(\\frac{q_i}{\\sum_{j=1}^n q_j} \\right)^2\n",
    "$$\n",
    "where $\\frac{q_i}{\\sum_{j=1}^n q_j}$ gives the market share of firm $i$ in a market with $n$ firms (and homogenous products).\n",
    "\n",
    "In words, the Herfindahl index equals the sum of firms' squared market shares.\n",
    "\n",
    "For our duopoly model, we can write\n",
    "$$\n",
    "H = \\left( \\frac{q_1}{Q} \\right)^2 + \\left( \\frac{q_2}{Q} \\right)^2\n",
    "$$\n",
    "where total market ouput is given by $Q=q_1+q_2$.\n",
    "\n",
    "Lower values of $H$ are often seen as indicating more intense competition in a market. Indeed, if there is a monopoly in a market, one firm has market share equal to 1 and all other firms have market share equal to 0. Then we have $H=1$. Instead, in a duopoly market with symmetric firms we have $H = 0.5$.\n",
    "\n",
    "Hence, the closer $H$ is to 0.5, the more competitive the duopoly market according to this reasoning."
   ]
  },
  {
   "cell_type": "markdown",
   "metadata": {},
   "source": [
    "### Exercise\n",
    "\n",
    "Add the Herfindahl index to the dataframe. That is, add the column `df_simulations['H']`."
   ]
  },
  {
   "cell_type": "code",
   "execution_count": 60,
   "metadata": {
    "collapsed": false,
    "deletable": false,
    "nbgrader": {
     "checksum": "043ef860fc1ff8572c3d017030c4f909",
     "grade": false,
     "grade_id": "cell-98c3d2b13518a02c",
     "locked": false,
     "schema_version": 1,
     "solution": true
    }
   },
   "outputs": [
    {
     "data": {
      "text/html": [
       "<div>\n",
       "<table border=\"1\" class=\"dataframe\">\n",
       "  <thead>\n",
       "    <tr style=\"text-align: right;\">\n",
       "      <th></th>\n",
       "      <th>c_1</th>\n",
       "      <th>c_2</th>\n",
       "      <th>q_1</th>\n",
       "      <th>q_2</th>\n",
       "      <th>Q</th>\n",
       "      <th>P</th>\n",
       "      <th>Profit_1</th>\n",
       "      <th>Profit_2</th>\n",
       "      <th>H</th>\n",
       "    </tr>\n",
       "  </thead>\n",
       "  <tbody>\n",
       "    <tr>\n",
       "      <th>1</th>\n",
       "      <td>0.0</td>\n",
       "      <td>0.00</td>\n",
       "      <td>0.333333</td>\n",
       "      <td>0.333333</td>\n",
       "      <td>0.666667</td>\n",
       "      <td>0.333333</td>\n",
       "      <td>0.111111</td>\n",
       "      <td>0.111111</td>\n",
       "      <td>0.500000</td>\n",
       "    </tr>\n",
       "    <tr>\n",
       "      <th>2</th>\n",
       "      <td>0.0</td>\n",
       "      <td>0.01</td>\n",
       "      <td>0.336667</td>\n",
       "      <td>0.326667</td>\n",
       "      <td>0.663333</td>\n",
       "      <td>0.336667</td>\n",
       "      <td>0.113344</td>\n",
       "      <td>0.106711</td>\n",
       "      <td>0.500114</td>\n",
       "    </tr>\n",
       "    <tr>\n",
       "      <th>3</th>\n",
       "      <td>0.0</td>\n",
       "      <td>0.02</td>\n",
       "      <td>0.340000</td>\n",
       "      <td>0.320000</td>\n",
       "      <td>0.660000</td>\n",
       "      <td>0.340000</td>\n",
       "      <td>0.115600</td>\n",
       "      <td>0.102400</td>\n",
       "      <td>0.500459</td>\n",
       "    </tr>\n",
       "    <tr>\n",
       "      <th>4</th>\n",
       "      <td>0.0</td>\n",
       "      <td>0.03</td>\n",
       "      <td>0.343333</td>\n",
       "      <td>0.313333</td>\n",
       "      <td>0.656667</td>\n",
       "      <td>0.343333</td>\n",
       "      <td>0.117878</td>\n",
       "      <td>0.098178</td>\n",
       "      <td>0.501044</td>\n",
       "    </tr>\n",
       "    <tr>\n",
       "      <th>5</th>\n",
       "      <td>0.0</td>\n",
       "      <td>0.04</td>\n",
       "      <td>0.346667</td>\n",
       "      <td>0.306667</td>\n",
       "      <td>0.653333</td>\n",
       "      <td>0.346667</td>\n",
       "      <td>0.120178</td>\n",
       "      <td>0.094044</td>\n",
       "      <td>0.501874</td>\n",
       "    </tr>\n",
       "  </tbody>\n",
       "</table>\n",
       "</div>"
      ],
      "text/plain": [
       "   c_1   c_2       q_1       q_2         Q         P  Profit_1  Profit_2  \\\n",
       "1  0.0  0.00  0.333333  0.333333  0.666667  0.333333  0.111111  0.111111   \n",
       "2  0.0  0.01  0.336667  0.326667  0.663333  0.336667  0.113344  0.106711   \n",
       "3  0.0  0.02  0.340000  0.320000  0.660000  0.340000  0.115600  0.102400   \n",
       "4  0.0  0.03  0.343333  0.313333  0.656667  0.343333  0.117878  0.098178   \n",
       "5  0.0  0.04  0.346667  0.306667  0.653333  0.346667  0.120178  0.094044   \n",
       "\n",
       "          H  \n",
       "1  0.500000  \n",
       "2  0.500114  \n",
       "3  0.500459  \n",
       "4  0.501044  \n",
       "5  0.501874  "
      ]
     },
     "execution_count": 60,
     "metadata": {},
     "output_type": "execute_result"
    }
   ],
   "source": [
    "df_simulations['H'] = (df_simulations['q_1']/df_simulations['Q'])**2+(df_simulations['q_2']/df_simulations['Q'])**2\n",
    "df_simulations.head()"
   ]
  },
  {
   "cell_type": "markdown",
   "metadata": {},
   "source": [
    "Once you have added $H$ to the dataframe, we can make a scatter plot of $H$ against $P$. Each point (dot) in this plot is an industry in our economy in the dataframe.\n",
    "\n",
    "Above we explained why people tend to interpret low $H$ as a competitive industry. Another interpretation of a competitive industry is, of course, that its price is low.\n",
    "\n",
    "Run the code below, to view the cross section variation in $H$ and equilibrium price $P$."
   ]
  },
  {
   "cell_type": "code",
   "execution_count": 63,
   "metadata": {
    "collapsed": false
   },
   "outputs": [
    {
     "data": {
      "image/png": "[encoded data removed]",
      "text/plain": [
       "<matplotlib.figure.Figure at 0xb31e898>"
      ]
     },
     "metadata": {},
     "output_type": "display_data"
    }
   ],
   "source": [
    "plt.scatter(df_simulations['H'],df_simulations['P'])\n",
    "plt.xlabel('$H$')\n",
    "plt.ylabel('$P$')\n",
    "plt.show()"
   ]
  },
  {
   "cell_type": "markdown",
   "metadata": {},
   "source": [
    "### Exercise\n",
    "\n",
    "Use this figure above to discuss the role of the Herfindahl index as a competition measure. Do you agree with the interpretation that lower $H$ should be interpreted as more competitive?"
   ]
  },
  {
   "cell_type": "markdown",
   "metadata": {
    "deletable": false,
    "nbgrader": {
     "checksum": "f4adaf238d1f2b29acac3ae1e157d0e6",
     "grade": true,
     "grade_id": "cell-ba055a4c80238c26",
     "locked": false,
     "points": 1,
     "schema_version": 1,
     "solution": true
    }
   },
   "source": [
    "It's not always the case. There will be a difference between efficient and inefficient firms. It's uncertain how these firms will react."
   ]
  },
  {
   "cell_type": "markdown",
   "metadata": {},
   "source": [
    "### Exercise\n",
    "\n",
    "Run the code below. This code uses the pandas dataframe to plot a figure directly. You have seen this code already above where we gave an explanation of how the code works. Plot the graph. Does this help you to get an intuition for the relation between $H$ and $P$?"
   ]
  },
  {
   "cell_type": "markdown",
   "metadata": {
    "deletable": false,
    "nbgrader": {
     "checksum": "c8cee6e003773494715da506223a81e8",
     "grade": true,
     "grade_id": "cell-3b14e1c5e9027f66",
     "locked": false,
     "points": 1,
     "schema_version": 1,
     "solution": true
    }
   },
   "source": [
    "YOUR ANSWER HERE"
   ]
  },
  {
   "cell_type": "code",
   "execution_count": 15,
   "metadata": {
    "collapsed": false
   },
   "outputs": [
    {
     "ename": "NameError",
     "evalue": "name 'df_simulations' is not defined",
     "output_type": "error",
     "traceback": [
      "\u001b[1;31m---------------------------------------------------------------------------\u001b[0m",
      "\u001b[1;31mNameError\u001b[0m                                 Traceback (most recent call last)",
      "\u001b[1;32m<ipython-input-15-449fc18cd03a>\u001b[0m in \u001b[0;36m<module>\u001b[1;34m()\u001b[0m\n\u001b[1;32m----> 1\u001b[1;33m \u001b[0mdf_simulations\u001b[0m\u001b[1;33m.\u001b[0m\u001b[0mset_index\u001b[0m\u001b[1;33m(\u001b[0m\u001b[1;33m[\u001b[0m\u001b[1;34m'c_1'\u001b[0m\u001b[1;33m,\u001b[0m\u001b[1;34m'c_2'\u001b[0m\u001b[1;33m]\u001b[0m\u001b[1;33m)\u001b[0m\u001b[1;33m.\u001b[0m\u001b[0mloc\u001b[0m\u001b[1;33m[\u001b[0m\u001b[1;36m0.2\u001b[0m\u001b[1;33m]\u001b[0m\u001b[1;33m[\u001b[0m\u001b[1;33m[\u001b[0m\u001b[1;34m'H'\u001b[0m\u001b[1;33m,\u001b[0m\u001b[1;34m'Q'\u001b[0m\u001b[1;33m]\u001b[0m\u001b[1;33m]\u001b[0m\u001b[1;33m.\u001b[0m\u001b[0mplot\u001b[0m\u001b[1;33m(\u001b[0m\u001b[1;33m)\u001b[0m\u001b[1;33m\u001b[0m\u001b[0m\n\u001b[0m",
      "\u001b[1;31mNameError\u001b[0m: name 'df_simulations' is not defined"
     ]
    }
   ],
   "source": [
    "df_simulations.set_index(['c_1','c_2']).loc[0.2][['H','Q']].plot()"
   ]
  },
  {
   "cell_type": "code",
   "execution_count": null,
   "metadata": {
    "collapsed": true
   },
   "outputs": [],
   "source": []
  },
  {
   "cell_type": "markdown",
   "metadata": {},
   "source": [
    "## Appendix\n",
    "\n",
    "The model we solve above is actually simple enough to solve analytically. In case you are wondering, this appendix shows how to solve the model. This appendix is optional; you do not need to read it for the course.\n",
    "\n",
    "\n",
    "Assume we have a linear demand curve $p_i(q_i,q_j)=1-a q_i - b q_j$ and costs $c_i(q)=c_i q$, where $q_i$ denotes firm $i$'s output on the market.\n",
    "\n",
    "Firm $i$'s profit is written as $\\pi(q_i,q_j)=(1-a q_i-b q_j)q_i-c_i q_i$ with $j \\neq i$.\n",
    "\n",
    "The two first order conditions for firms 1 and 2 are derive by taking the derivative of $\\pi_1$ w.r.t. $q_1$ and $\\pi_2$ w.r.t. $q_2$. These equations can be written as:\n",
    "$$\n",
    "1-2a q_1-b q_2-c_1 = 0\n",
    "$$\n",
    "and\n",
    "$$\n",
    "1-2 a q_2-b q_1-c_2 = 0\n",
    "$$\n",
    "\n",
    "Then we can solve these two equations in the unknowns $q_1,q_2$. However, we usually take a step in between and define the reaction functions. That is, we solve the optimal $q_i$ as a function of $q_j$:\n",
    "$$\n",
    "q_i = \\frac{1}{2a}(1-c_i-b q_j)\n",
    "$$\n",
    "Or, equivalently, we define $i$'s reaction function as \n",
    "$$\n",
    "R_i(q_j) = \\frac{1}{2a}(1-c_i-b q_j)\n",
    "$$\n",
    "\n",
    "We have an equilibrium if $q_1 = R_1(q_2)$ and $q_2 = R_2(q_1)$. Or in matrix notation, the equilibrium is given by $q_1,q_2$ such that\n",
    "$$\n",
    "\\begin{pmatrix} q_1\\\\ q_2\\end{pmatrix} = \\begin{pmatrix} R_1(q_2)\\\\ R_2(q_1)\\end{pmatrix}\n",
    "$$\n",
    "\n",
    "If both firms have the same costs $c_1=c_2$, there is a symmetric equilibrium given by $q=R(q)$.\n",
    "\n",
    "To calculate the equilibrium, we need to find a so called fixed point of the vector function $R(q)$. This can be seen as follows.\n",
    "\n",
    "Define the function (or mapping) $q \\rightarrow R(q)$ with $q \\in \\Re^2$ and \n",
    "\n",
    "$$\n",
    "R(q) = \\begin{pmatrix} R_1(q_2)\\\\ R_2(q_1)\\end{pmatrix}\n",
    "$$\n",
    "\n",
    "A fixed point of this function is defined as a vector $q$ such that $q=R(q)$. In words, $q_1$ is the optimal reaction to $q_2$ and $q_2$ is the optimal reaction to $q_1$. That is, the vector $q$ is a Nash equilibrium. Each firm $i$ chooses its optimal output level $q_i$, given the choice by the other firm $q_j$.\n"
   ]
  }
 ],
 "metadata": {
  "kernelspec": {
   "display_name": "Python [Root]",
   "language": "python",
   "name": "Python [Root]"
  },
  "language_info": {
   "codemirror_mode": {
    "name": "ipython",
    "version": 3
   },
   "file_extension": ".py",
   "mimetype": "text/x-python",
   "name": "python",
   "nbconvert_exporter": "python",
   "pygments_lexer": "ipython3",
   "version": "3.5.2"
  },
  "org": null
 },
 "nbformat": 4,
 "nbformat_minor": 1
}
